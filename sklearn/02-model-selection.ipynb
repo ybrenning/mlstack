{
 "cells": [
  {
   "cell_type": "markdown",
   "id": "2dd2ba05-d7dd-4f07-804b-eb6e17aff5af",
   "metadata": {},
   "source": [
    "# Model Selection\n",
    "\n",
    "## Score and cross-validated scores\n",
    "\n",
    "Every estimator exposes a `score` method that can judge the quality of the fit or prediction on new data."
   ]
  },
  {
   "cell_type": "code",
   "execution_count": 1,
   "id": "d2a8b658-a4f8-4392-aff6-e3f0de629370",
   "metadata": {},
   "outputs": [
    {
     "data": {
      "text/plain": [
       "0.98"
      ]
     },
     "execution_count": 1,
     "metadata": {},
     "output_type": "execute_result"
    }
   ],
   "source": [
    "from sklearn import datasets, svm\n",
    "X_digits, y_digits = datasets.load_digits(return_X_y=True)\n",
    "svc = svm.SVC(C=1, kernel='linear')\n",
    "svc.fit(X_digits[:-100], y_digits[:-100]).score(X_digits[-100:], y_digits[-100:])"
   ]
  },
  {
   "cell_type": "markdown",
   "id": "9a115da5-6652-491d-b9e0-2edaa9604d1d",
   "metadata": {},
   "source": [
    "We can split the data in folds that we use for training and testing to get a better measure of prediction accuracy.\n",
    "\n",
    "This is called K-Fold cross validation"
   ]
  },
  {
   "cell_type": "code",
   "execution_count": 16,
   "id": "c7a6263b-ce6c-425d-bf33-f911e60bc13e",
   "metadata": {},
   "outputs": [
    {
     "data": {
      "text/plain": [
       "[0.9348914858096828, 0.9565943238731218, 0.9398998330550918]"
      ]
     },
     "execution_count": 16,
     "metadata": {},
     "output_type": "execute_result"
    }
   ],
   "source": [
    "import numpy as np\n",
    "X_folds = np.array_split(X_digits, 3)\n",
    "y_folds = np.array_split(y_digits, 3)\n",
    "scores = []\n",
    "for k in range(0, 3):\n",
    "    X_train = list(X_folds)\n",
    "    X_test = X_train.pop(k)\n",
    "    X_train = np.concatenate(X_train)\n",
    "    y_train = list(y_folds)\n",
    "    y_test = y_train.pop(k)\n",
    "    y_train = np.concatenate(y_train)\n",
    "    scores.append(svc.fit(X_train, y_train).score(X_test, y_test))\n",
    "scores"
   ]
  },
  {
   "cell_type": "code",
   "execution_count": 17,
   "id": "bacc4dad-59b4-4b65-a025-449d5318f1af",
   "metadata": {},
   "outputs": [
    {
     "name": "stdout",
     "output_type": "stream",
     "text": [
      "Train indices: [2 3 4 5 6 7 8 9], test indices: [0 1]\n",
      "Train indices: [0 1 4 5 6 7 8 9], test indices: [2 3]\n",
      "Train indices: [0 1 2 3 6 7 8 9], test indices: [4 5]\n",
      "Train indices: [0 1 2 3 4 5 8 9], test indices: [6 7]\n",
      "Train indices: [0 1 2 3 4 5 6 7], test indices: [8 9]\n"
     ]
    }
   ],
   "source": [
    "from sklearn.model_selection import KFold, cross_val_score\n",
    "X = [\"a\", \"a\", \"a\", \"b\", \"b\", \"c\", \"c\", \"c\", \"c\", \"c\"]\n",
    "kf = KFold(n_splits=5)\n",
    "for train_indices, test_indices in kf.split(X):\n",
    "    print(f\"Train indices: {train_indices}, test indices: {test_indices}\")"
   ]
  },
  {
   "cell_type": "code",
   "execution_count": 18,
   "id": "fa58d8e6-7be0-47d3-9233-fc9f7f7538aa",
   "metadata": {},
   "outputs": [
    {
     "data": {
      "text/plain": [
       "[0.9638888888888889,\n",
       " 0.9222222222222223,\n",
       " 0.9637883008356546,\n",
       " 0.9637883008356546,\n",
       " 0.9303621169916435]"
      ]
     },
     "execution_count": 18,
     "metadata": {},
     "output_type": "execute_result"
    }
   ],
   "source": [
    "# Easy for cross-validation:\n",
    "[svc.fit(X_digits[train], y_digits[train]).score(X_digits[test], y_digits[test]) for train, test in kf.split(X_digits)]"
   ]
  },
  {
   "cell_type": "code",
   "execution_count": 21,
   "id": "8c2679dc-e471-4663-b13d-43d9a9d99b13",
   "metadata": {},
   "outputs": [
    {
     "data": {
      "text/plain": [
       "array([0.96388889, 0.92222222, 0.9637883 , 0.9637883 , 0.93036212])"
      ]
     },
     "execution_count": 21,
     "metadata": {},
     "output_type": "execute_result"
    }
   ],
   "source": [
    "# Can be computed directly\n",
    "cross_val_score(svc, X_digits, y_digits, cv=kf, n_jobs=-1) # -1 specifies to use all CPUs"
   ]
  },
  {
   "cell_type": "code",
   "execution_count": 22,
   "id": "affd4cd0-1b60-45ba-9f46-99f8df89595f",
   "metadata": {},
   "outputs": [
    {
     "data": {
      "text/plain": [
       "array([0.96578289, 0.92708922, 0.96681476, 0.96362897, 0.93192644])"
      ]
     },
     "execution_count": 22,
     "metadata": {},
     "output_type": "execute_result"
    }
   ],
   "source": [
    "# Defaults to score -- provide alternative scoring method as such:\n",
    "cross_val_score(svc, X_digits, y_digits, cv=kf, scoring='precision_macro')"
   ]
  },
  {
   "cell_type": "raw",
   "id": "6e607b3b-d4e6-4889-bce3-6a53e74fae43",
   "metadata": {},
   "source": [
    "Exercise: plot cross-validation score of SVC estimator with linear kernel as function of parameter C using log scale"
   ]
  },
  {
   "cell_type": "code",
   "execution_count": 40,
   "id": "a9b836cf-a644-4829-8d3b-a0778db170d8",
   "metadata": {},
   "outputs": [
    {
     "data": {
      "image/png": "[encoded data removed]",
      "text/plain": [
       "<Figure size 640x480 with 1 Axes>"
      ]
     },
     "metadata": {},
     "output_type": "display_data"
    }
   ],
   "source": [
    "import matplotlib.pyplot as plt\n",
    "X, y = datasets.load_digits(return_X_y=True)\n",
    "\n",
    "svc = svm.SVC(kernel=\"linear\")\n",
    "C_s = np.logspace(-10, 0, 10)\n",
    "\n",
    "cv_scores = []\n",
    "\n",
    "for c in range(1, 11):\n",
    "    svc.C = c\n",
    "    cv_scores.append(np.mean(cross_val_score(svc, X_digits, y_digits, cv=kf, n_jobs=-1)))\n",
    "    \n",
    "scores = list()\n",
    "scores_std = list()\n",
    "for C in C_s:\n",
    "    svc.C = C\n",
    "    this_scores = cross_val_score(svc, X, y, n_jobs=1)\n",
    "    scores.append(np.mean(this_scores))\n",
    "    scores_std.append(np.std(this_scores))\n",
    "\n",
    "plt.figure()\n",
    "plt.semilogx(C_s, scores)\n",
    "plt.semilogx(C_s, np.array(scores) + np.array(scores_std), \"b--\")\n",
    "plt.semilogx(C_s, np.array(scores) - np.array(scores_std), \"b--\")\n",
    "locs, labels = plt.yticks()\n",
    "plt.yticks(locs, list(map(lambda x: \"%g\" % x, locs)))\n",
    "plt.ylabel(\"CV score\")\n",
    "plt.xlabel(\"Parameter C\")\n",
    "plt.ylim(0, 1.1)\n",
    "plt.show()"
   ]
  },
  {
   "cell_type": "markdown",
   "id": "927f5837-d8d9-4b36-83c5-2c47e630ef2e",
   "metadata": {},
   "source": [
    "## Grid search "
   ]
  },
  {
   "cell_type": "code",
   "execution_count": null,
   "id": "3b4e80b5-069f-4334-9b66-f836206c4640",
   "metadata": {},
   "outputs": [],
   "source": []
  }
 ],
 "metadata": {
  "kernelspec": {
   "display_name": "Python 3 (ipykernel)",
   "language": "python",
   "name": "python3"
  },
  "language_info": {
   "codemirror_mode": {
    "name": "ipython",
    "version": 3
   },
   "file_extension": ".py",
   "mimetype": "text/x-python",
   "name": "python",
   "nbconvert_exporter": "python",
   "pygments_lexer": "ipython3",
   "version": "3.10.6"
  }
 },
 "nbformat": 4,
 "nbformat_minor": 5
}
