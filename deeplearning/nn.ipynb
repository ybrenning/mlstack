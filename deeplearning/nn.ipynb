{
 "cells": [
  {
   "cell_type": "code",
   "execution_count": 66,
   "id": "3e7ee4a7-f7db-49d8-8eb9-e22100e2adbf",
   "metadata": {},
   "outputs": [
    {
     "data": {
      "text/html": [
       "<div>\n",
       "<style scoped>\n",
       "    .dataframe tbody tr th:only-of-type {\n",
       "        vertical-align: middle;\n",
       "    }\n",
       "\n",
       "    .dataframe tbody tr th {\n",
       "        vertical-align: top;\n",
       "    }\n",
       "\n",
       "    .dataframe thead th {\n",
       "        text-align: right;\n",
       "    }\n",
       "</style>\n",
       "<table border=\"1\" class=\"dataframe\">\n",
       "  <thead>\n",
       "    <tr style=\"text-align: right;\">\n",
       "      <th></th>\n",
       "      <th>sepal_length</th>\n",
       "      <th>sepal_width</th>\n",
       "      <th>petal_length</th>\n",
       "      <th>petal_width</th>\n",
       "      <th>species</th>\n",
       "    </tr>\n",
       "  </thead>\n",
       "  <tbody>\n",
       "    <tr>\n",
       "      <th>0</th>\n",
       "      <td>5.1</td>\n",
       "      <td>3.5</td>\n",
       "      <td>1.4</td>\n",
       "      <td>0.2</td>\n",
       "      <td>Iris-setosa</td>\n",
       "    </tr>\n",
       "    <tr>\n",
       "      <th>1</th>\n",
       "      <td>4.9</td>\n",
       "      <td>3.0</td>\n",
       "      <td>1.4</td>\n",
       "      <td>0.2</td>\n",
       "      <td>Iris-setosa</td>\n",
       "    </tr>\n",
       "    <tr>\n",
       "      <th>2</th>\n",
       "      <td>4.7</td>\n",
       "      <td>3.2</td>\n",
       "      <td>1.3</td>\n",
       "      <td>0.2</td>\n",
       "      <td>Iris-setosa</td>\n",
       "    </tr>\n",
       "    <tr>\n",
       "      <th>3</th>\n",
       "      <td>4.6</td>\n",
       "      <td>3.1</td>\n",
       "      <td>1.5</td>\n",
       "      <td>0.2</td>\n",
       "      <td>Iris-setosa</td>\n",
       "    </tr>\n",
       "    <tr>\n",
       "      <th>4</th>\n",
       "      <td>5.0</td>\n",
       "      <td>3.6</td>\n",
       "      <td>1.4</td>\n",
       "      <td>0.2</td>\n",
       "      <td>Iris-setosa</td>\n",
       "    </tr>\n",
       "  </tbody>\n",
       "</table>\n",
       "</div>"
      ],
      "text/plain": [
       "   sepal_length  sepal_width  petal_length  petal_width      species\n",
       "0           5.1          3.5           1.4          0.2  Iris-setosa\n",
       "1           4.9          3.0           1.4          0.2  Iris-setosa\n",
       "2           4.7          3.2           1.3          0.2  Iris-setosa\n",
       "3           4.6          3.1           1.5          0.2  Iris-setosa\n",
       "4           5.0          3.6           1.4          0.2  Iris-setosa"
      ]
     },
     "execution_count": 66,
     "metadata": {},
     "output_type": "execute_result"
    }
   ],
   "source": [
    "import numpy as np\n",
    "import pandas as pd\n",
    "\n",
    "df = pd.read_csv('data/iris.csv')\n",
    "df.head(5)"
   ]
  },
  {
   "cell_type": "code",
   "execution_count": 67,
   "id": "bec2f763-8acf-4cac-a140-c71ce88711f8",
   "metadata": {},
   "outputs": [
    {
     "data": {
      "text/plain": [
       "array([0, 0, 0, 0, 0, 0, 0, 0, 0, 0, 0, 0, 0, 0, 0, 0, 0, 0, 0, 0, 0, 0,\n",
       "       0, 0, 0, 0, 0, 0, 0, 0, 0, 0, 0, 0, 0, 0, 0, 0, 0, 0, 0, 0, 0, 0,\n",
       "       0, 0, 0, 0, 0, 0, 1, 1, 1, 1, 1, 1, 1, 1, 1, 1, 1, 1, 1, 1, 1, 1,\n",
       "       1, 1, 1, 1, 1, 1, 1, 1, 1, 1, 1, 1, 1, 1, 1, 1, 1, 1, 1, 1, 1, 1,\n",
       "       1, 1, 1, 1, 1, 1, 1, 1, 1, 1, 1, 1, 2, 2, 2, 2, 2, 2, 2, 2, 2, 2,\n",
       "       2, 2, 2, 2, 2, 2, 2, 2, 2, 2, 2, 2, 2, 2, 2, 2, 2, 2, 2, 2, 2, 2,\n",
       "       2, 2, 2, 2, 2, 2, 2, 2, 2, 2, 2, 2, 2, 2, 2, 2, 2, 2])"
      ]
     },
     "execution_count": 67,
     "metadata": {},
     "output_type": "execute_result"
    }
   ],
   "source": [
    "from sklearn import preprocessing\n",
    "from sklearn.preprocessing import StandardScaler\n",
    "from sklearn.preprocessing import LabelEncoder\n",
    "\n",
    "X = df.iloc[:,:-1].values\n",
    "Y = df.iloc[:,-1].values\n",
    "StandardScaler = StandardScaler()\n",
    "X = StandardScaler.fit_transform(X)\n",
    "label_encoder = LabelEncoder()\n",
    "Y = label_encoder.fit_transform(Y)\n",
    "\n",
    "Y"
   ]
  },
  {
   "cell_type": "code",
   "execution_count": 68,
   "id": "9df2b431-09b6-40d8-bb05-d7be3a3cefa6",
   "metadata": {},
   "outputs": [
    {
     "data": {
      "text/plain": [
       "array([[1., 0., 0.],\n",
       "       [1., 0., 0.],\n",
       "       [1., 0., 0.],\n",
       "       [1., 0., 0.]])"
      ]
     },
     "execution_count": 68,
     "metadata": {},
     "output_type": "execute_result"
    }
   ],
   "source": [
    "Y = Y.reshape(150,1)\n",
    "enc = preprocessing.OneHotEncoder()\n",
    "enc.fit(Y)\n",
    "onehotlabels = enc.transform(Y).toarray()\n",
    "Y = onehotlabels\n",
    "Y[:4]"
   ]
  },
  {
   "cell_type": "code",
   "execution_count": 69,
   "id": "2d06e38a-dbf3-4c4a-8513-0277216b6359",
   "metadata": {},
   "outputs": [],
   "source": [
    "from sklearn.model_selection import train_test_split\n",
    "X_train, X_test, y_train, y_test = train_test_split(X, Y, test_size=0.2, random_state=0)"
   ]
  },
  {
   "cell_type": "code",
   "execution_count": 70,
   "id": "01626f16-61a9-4c5e-92c7-609db8a4029d",
   "metadata": {},
   "outputs": [],
   "source": [
    "def relu(x):\n",
    "    \"\"\"\n",
    "    https://en.wikipedia.org/wiki/Rectifier_(neural_networks)\n",
    "    \"\"\"\n",
    "    return (x + np.abs(x)) / 2\n",
    "\n",
    "def relu_prime(x):\n",
    "    return np.heaviside(x, 1)\n",
    "\n",
    "def sigmoid(x):\n",
    "    return 1. / (1 + np.exp(-x))\n",
    "\n",
    "def sigmoid_prime(x):\n",
    "    return x * (1 - x)"
   ]
  },
  {
   "cell_type": "code",
   "execution_count": 71,
   "id": "77ec2f62-cfe5-4ed5-a9fe-b92f749406c9",
   "metadata": {},
   "outputs": [],
   "source": [
    "def train(X, y, epochs=50_000, lr=0.001):\n",
    "    input_size = X.shape[1]\n",
    "    hidden_layer_size = 16\n",
    "    output_size = y.shape[1]\n",
    "\n",
    "    # Initialize random weights\n",
    "    w_0 = 2*np.random.random((input_size,hidden_layer_size)) - 1\n",
    "    w_1 = 2*np.random.random((hidden_layer_size, output_size)) - 1\n",
    "\n",
    "    for i in range(0, epochs):\n",
    "        # Feed forward\n",
    "        a_0 = X\n",
    "        a_1 = sigmoid(np.dot(a_0, w_0))\n",
    "        a_2 = sigmoid(np.dot(a_1, w_1))\n",
    "\n",
    "        # How much did we muss the target output?\n",
    "        a_2_error = a_2 - y\n",
    "\n",
    "        if (i % 1000 == 0):\n",
    "            print(f'Error after {i} iterations: {np.mean(np.abs(a_2_error))}')\n",
    "\n",
    "        # In what direction is the target value?\n",
    "        a_2_delta = a_2_error * sigmoid_prime(a_2)\n",
    "\n",
    "        # How much did each a_1 value contribute to the a_2 error (according to weights)?\n",
    "        a_1_error = np.dot(a_2_delta, w_1.T)\n",
    "\n",
    "        # In what direction is the target a_1?\n",
    "        a_1_delta = a_1_error * sigmoid_prime(a_1)\n",
    "\n",
    "        w_1 -= lr * np.dot(a_1.T, a_2_delta)\n",
    "        w_0 -= lr * np.dot(a_0.T, a_1_delta)\n",
    "\n",
    "    return (w_0, w_1)\n",
    "\n",
    "np.random.seed(420)\n",
    "# w_0, w_1 = train(X_train, y_train)"
   ]
  },
  {
   "cell_type": "code",
   "execution_count": 72,
   "id": "0018ee50-e8a9-4485-98a1-132f900e543d",
   "metadata": {},
   "outputs": [
    {
     "name": "stdout",
     "output_type": "stream",
     "text": [
      "Error after 0 iterations: 0.4138723141760293\n",
      "Error after 1000 iterations: 0.2070624563000826\n",
      "Error after 2000 iterations: 0.17678842670333522\n",
      "Error after 3000 iterations: 0.1607118844236615\n",
      "Error after 4000 iterations: 0.14981444802272983\n",
      "Error after 5000 iterations: 0.14154406163857955\n",
      "Error after 6000 iterations: 0.1348535180069998\n",
      "Error after 7000 iterations: 0.12923221057345957\n",
      "Error after 8000 iterations: 0.1243950708795081\n",
      "Error after 9000 iterations: 0.12016092125485059\n",
      "Error after 10000 iterations: 0.11640098061445375\n",
      "Error after 11000 iterations: 0.11301546442307352\n",
      "Error after 12000 iterations: 0.10992296490015564\n",
      "Error after 13000 iterations: 0.10705616555806269\n",
      "Error after 14000 iterations: 0.10436072472887982\n",
      "Error after 15000 iterations: 0.10179550145949072\n",
      "Error after 16000 iterations: 0.09933272978692642\n",
      "Error after 17000 iterations: 0.0969570665831507\n",
      "Error after 18000 iterations: 0.09466316923652028\n",
      "Error after 19000 iterations: 0.09245236912711449\n",
      "Error after 20000 iterations: 0.09032943321044146\n",
      "Error after 21000 iterations: 0.08830013259630687\n",
      "Error after 22000 iterations: 0.08636974592168169\n",
      "Error after 23000 iterations: 0.08454211794177693\n",
      "Error after 24000 iterations: 0.08281852228788633\n",
      "Error after 25000 iterations: 0.08119523752229806\n",
      "Error after 26000 iterations: 0.07965892057921817\n",
      "Error after 27000 iterations: 0.0781817962538444\n",
      "Error after 28000 iterations: 0.07672564192042988\n",
      "Error after 29000 iterations: 0.07526155068286801\n",
      "Error after 30000 iterations: 0.07378806415645159\n",
      "Error after 31000 iterations: 0.07232538918357034\n",
      "Error after 32000 iterations: 0.0708973085529155\n",
      "Error after 33000 iterations: 0.06952080822918709\n",
      "Error after 34000 iterations: 0.0682049414390531\n",
      "Error after 35000 iterations: 0.06695304948544327\n",
      "Error after 36000 iterations: 0.06576502702866925\n",
      "Error after 37000 iterations: 0.064638868334253\n",
      "Error after 38000 iterations: 0.06357159807456864\n",
      "Error after 39000 iterations: 0.06255980786778528\n",
      "Error after 40000 iterations: 0.06159996102587743\n",
      "Error after 41000 iterations: 0.06068856369740161\n",
      "Error after 42000 iterations: 0.0598222585909163\n",
      "Error after 43000 iterations: 0.058997873298719986\n",
      "Error after 44000 iterations: 0.05821244175790187\n",
      "Error after 45000 iterations: 0.05746320981024168\n",
      "Error after 46000 iterations: 0.05674763147017286\n",
      "Error after 47000 iterations: 0.05606335994318324\n",
      "Error after 48000 iterations: 0.055408235886019695\n",
      "Error after 49000 iterations: 0.05478027444410469\n"
     ]
    },
    {
     "data": {
      "text/plain": [
       "0.9833333333333333"
      ]
     },
     "execution_count": 72,
     "metadata": {},
     "output_type": "execute_result"
    }
   ],
   "source": [
    "def test(X, y, w_0, w_1):\n",
    "    correct = 0\n",
    "    for x, y in zip(X, y):\n",
    "        a_0 = x\n",
    "        a_1 = sigmoid(np.dot(a_0, w_0))\n",
    "        a_2 = sigmoid(np.dot(a_1, w_1))\n",
    "        if np.argmax(a_2) == np.argmax(y):\n",
    "            correct += 1\n",
    "    return correct / len(X)\n",
    "\n",
    "test(X_train, y_train, *train(X_train, y_train))"
   ]
  },
  {
   "cell_type": "code",
   "execution_count": 84,
   "id": "aa9b4ea0-4be6-4da0-b7a8-27f2917052fb",
   "metadata": {},
   "outputs": [],
   "source": [
    "%%capture\n",
    "import matplotlib.pyplot as plt\n",
    "e = np.array([i*1000 for i in range(0, 50)])\n",
    "acc = np.array([test(X_test, y_test, *train(X_train, y_train, epochs=i)) for i in e])"
   ]
  },
  {
   "cell_type": "code",
   "execution_count": 85,
   "id": "e00968f1-1769-4b72-9569-77acaace1d81",
   "metadata": {},
   "outputs": [
    {
     "data": {
      "image/png": "[encoded data removed]",
      "text/plain": [
       "<Figure size 640x480 with 1 Axes>"
      ]
     },
     "metadata": {},
     "output_type": "display_data"
    }
   ],
   "source": [
    "fig, ax = plt.subplots()\n",
    "ax.grid(True)\n",
    "plt.plot(e, acc)\n",
    "plt.show()"
   ]
  }
 ],
 "metadata": {
  "kernelspec": {
   "display_name": "Python 3 (ipykernel)",
   "language": "python",
   "name": "python3"
  },
  "language_info": {
   "codemirror_mode": {
    "name": "ipython",
    "version": 3
   },
   "file_extension": ".py",
   "mimetype": "text/x-python",
   "name": "python",
   "nbconvert_exporter": "python",
   "pygments_lexer": "ipython3",
   "version": "3.10.6"
  }
 },
 "nbformat": 4,
 "nbformat_minor": 5
}
