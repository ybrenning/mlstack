{
 "cells": [
  {
   "cell_type": "markdown",
   "id": "ca23785e-6197-4b0a-bb4f-526190ea5dd6",
   "metadata": {},
   "source": [
    "# Coding Neural Network to learn XOR"
   ]
  },
  {
   "cell_type": "code",
   "execution_count": 2,
   "id": "ad2238ce-d9d3-454b-ae31-6c88e58e2e55",
   "metadata": {},
   "outputs": [
    {
     "data": {
      "text/plain": [
       "((4, 2), (4, 1))"
      ]
     },
     "execution_count": 2,
     "metadata": {},
     "output_type": "execute_result"
    }
   ],
   "source": [
    "import numpy as np\n",
    "\n",
    "X = np.array([[0, 0], [0, 1], [1, 0], [1, 1]])\n",
    "y = np.array([[0], [1], [1], [0]])\n",
    "\n",
    "X.shape, y.shape"
   ]
  },
  {
   "cell_type": "markdown",
   "id": "9789fea0-1306-43ea-9433-bdb803c46ebe",
   "metadata": {},
   "source": [
    "Idea of architecture:\n",
    "\n",
    "For simplicity, let's use one hidden layer with two neurons to start out:\n",
    "\n",
    "Input Layer -> Hidden Layer -> Output Layer\n",
    "\n",
    "(Size 2) -> (Size 6) -> (Size 2)"
   ]
  },
  {
   "cell_type": "code",
   "execution_count": 3,
   "id": "14c5a0c2-7d35-4951-a089-6d85ca0ac6a6",
   "metadata": {},
   "outputs": [],
   "source": [
    "def sigmoid(x):\n",
    "    return 1 / (1 + np.exp(-x))\n",
    "\n",
    "def sigmoid_prime(x):\n",
    "    return x * (1 - x)\n",
    "\n",
    "def train(X, y, epochs=10_000, lr=0.001):\n",
    "    input_size = X.shape[1]\n",
    "    hidden_size = 6\n",
    "    output_size = y.shape[1]\n",
    "\n",
    "    # Initialize random weights and biases\n",
    "    w_0 = np.random.random((input_size, hidden_size))\n",
    "    w_1 = np.random.random((hidden_size, output_size))\n",
    "\n",
    "    b_0 = np.random.random(hidden_size)\n",
    "    b_1 = np.random.random(output_size)\n",
    "\n",
    "    for i in range(0, epochs):\n",
    "        a_0 = X\n",
    "        a_1 = sigmoid(np.dot(a_0, w_0) + b_0)\n",
    "        a_2 = sigmoid(np.dot(a_1, w_1) + b_1)\n",
    "        print(a_2)\n",
    "\n",
    "        a_2_error = (a_2 - y)**2\n",
    "        a_2_delta = a_2_error * sigmoid_prime(a_2)\n",
    "\n",
    "        a_1_error = np.dot(a_2_delta, w_1.T)\n",
    "        a_1_delta = a_1_error * sigmoid_prime(a_1)\n",
    "\n",
    "        w_1 -= lr * np.dot(a_1.T, a_2_delta)\n",
    "        w_0 -= lr * np.dot(a_0.T, a_1_delta)\n",
    "        b_1 -= lr * np.sum(a_2_error)\n",
    "        b_0 -= lr * np.sum(a_1_error)\n",
    "\n",
    "    return w_0, b_0, w_1, b_1"
   ]
  },
  {
   "cell_type": "code",
   "execution_count": 5,
   "id": "54303111-370f-4fe0-8991-5096e795bfcf",
   "metadata": {},
   "outputs": [],
   "source": [
    "np.random.seed(420)\n",
    "# w_0, b_0, w_1, b_1 = train(X, y)"
   ]
  }
 ],
 "metadata": {
  "kernelspec": {
   "display_name": "Python 3 (ipykernel)",
   "language": "python",
   "name": "python3"
  },
  "language_info": {
   "codemirror_mode": {
    "name": "ipython",
    "version": 3
   },
   "file_extension": ".py",
   "mimetype": "text/x-python",
   "name": "python",
   "nbconvert_exporter": "python",
   "pygments_lexer": "ipython3",
   "version": "3.10.6"
  }
 },
 "nbformat": 4,
 "nbformat_minor": 5
}
